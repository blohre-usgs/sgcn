{
 "cells": [
  {
   "cell_type": "markdown",
   "metadata": {},
   "source": [
    "A number of common questions come up about basic numbers reporting for the final list. This notebook explores some ways that we can take our intermediate SGCN summary with the results of taxonomic authority consultation and answer those questions. Pandas grouping is particularly useful in this context."
   ]
  },
  {
   "cell_type": "code",
   "execution_count": 1,
   "metadata": {},
   "outputs": [],
   "source": [
    "import pandas as pd"
   ]
  },
  {
   "cell_type": "code",
   "execution_count": 2,
   "metadata": {},
   "outputs": [],
   "source": [
    "sgcn_summary = pd.read_csv('sgcn_taxonomy_check.csv', low_memory=False)"
   ]
  },
  {
   "cell_type": "markdown",
   "metadata": {},
   "source": [
    "Based on the taxonomic lookup process, we end up with final identified taxa at various levels of the taxonomic hierarchy. We record that detail in a taxonomic_rank property retrieved from the matching document in ITIS or WoRMS. In many cases, we want to report only on taxa identified at the species level, which we do in subsequent steps, but we should look at the distribution of the data across ranks first."
   ]
  },
  {
   "cell_type": "code",
   "execution_count": 3,
   "metadata": {},
   "outputs": [
    {
     "name": "stdout",
     "output_type": "stream",
     "text": [
      "Class 4\n",
      "Family 199\n",
      "Form 1\n",
      "Genus 312\n",
      "Order 31\n",
      "Phylum 4\n",
      "Species 15560\n",
      "Subclass 5\n",
      "Subfamily 5\n",
      "Suborder 3\n",
      "Subspecies 1525\n",
      "Variety 526\n"
     ]
    }
   ],
   "source": [
    "for rank, group in sgcn_summary.groupby(\"taxonomic_rank\"):\n",
    "    print(rank, len(group))"
   ]
  },
  {
   "cell_type": "markdown",
   "metadata": {},
   "source": [
    "We may also want to limit our exploration to just those species that are included in the latest reporting period, 2015. This codeblock sets up a new dataframe filtered to only species reported in 2015."
   ]
  },
  {
   "cell_type": "code",
   "execution_count": 4,
   "metadata": {
    "scrolled": true
   },
   "outputs": [
    {
     "name": "stdout",
     "output_type": "stream",
     "text": [
      "12202\n"
     ]
    }
   ],
   "source": [
    "matched_species = sgcn_summary.loc[(sgcn_summary[\"taxonomic_rank\"] == \"Species\") & (sgcn_summary[\"2015\"].notnull())]\n",
    "print(len(matched_species))"
   ]
  },
  {
   "cell_type": "markdown",
   "metadata": {},
   "source": [
    "Now we can look at the distribution of species that were successfully aligned with taxonomic authorities (aka the National List) by the high level taxonomic group assigned based on the mapping of logical groups to higher level taxonomy."
   ]
  },
  {
   "cell_type": "code",
   "execution_count": 5,
   "metadata": {},
   "outputs": [
    {
     "name": "stdout",
     "output_type": "stream",
     "text": [
      "Amphibians 289\n",
      "Birds 772\n",
      "Fish 1195\n",
      "Mammals 414\n",
      "Mollusks 1447\n",
      "Other 19\n",
      "Other Invertebrates 3932\n",
      "Plants 3812\n",
      "Reptiles 322\n"
     ]
    }
   ],
   "source": [
    "for tax_group, group in matched_species.groupby(\"taxonomic_group\"):\n",
    "    print(tax_group, len(group))"
   ]
  },
  {
   "cell_type": "markdown",
   "metadata": {},
   "source": [
    "We might also want to look further at what happened in the taxonomic matching process. We generated a field in the processing metadata that captures the overall method used in matching a submitted name string to a taxon identifier.\n",
    "\n",
    "* Exact Match - means that the submitted name was found to match exactly one valid (\"accepted\" in the case of ITIS plants) taxon\n",
    "* Fuzzy Match - means that the original submitted name had a misspelling of some kind but that we were able to find it with a fuzzy search\n",
    "* Followed Accepted TSN or Followed Valid AphiaID - means that the original submitted name string found a match to a taxon that is no longer considered valid and our process followed the taxonomic reference to retrieve a valid taxon for use\n",
    "* Found multiple matches - means that our search on submitted name string found multiple matches for the name (often homynyms) but that only a single valid taxon was available to give us an acceptable match"
   ]
  },
  {
   "cell_type": "code",
   "execution_count": 6,
   "metadata": {},
   "outputs": [
    {
     "name": "stdout",
     "output_type": "stream",
     "text": [
      "Exact Match 10823\n",
      "Followed Accepted TSN 855\n",
      "Followed Valid AphiaID 74\n",
      "Found multiple matches 59\n",
      "Fuzzy Match 391\n"
     ]
    }
   ],
   "source": [
    "for match_method, group in matched_species.groupby(\"match_method\"):\n",
    "    print(match_method, len(group))"
   ]
  },
  {
   "cell_type": "markdown",
   "metadata": {},
   "source": [
    "If we really want to dig into the details, we can pull just the details for those cases where the submitted name string does not match the final valid scientific name we matched to in the taxonomic authority. This codeblock outputs a subset dataframe with just the pertinent details."
   ]
  },
  {
   "cell_type": "code",
   "execution_count": 7,
   "metadata": {},
   "outputs": [
    {
     "data": {
      "text/html": [
       "<div>\n",
       "<style scoped>\n",
       "    .dataframe tbody tr th:only-of-type {\n",
       "        vertical-align: middle;\n",
       "    }\n",
       "\n",
       "    .dataframe tbody tr th {\n",
       "        vertical-align: top;\n",
       "    }\n",
       "\n",
       "    .dataframe thead th {\n",
       "        text-align: right;\n",
       "    }\n",
       "</style>\n",
       "<table border=\"1\" class=\"dataframe\">\n",
       "  <thead>\n",
       "    <tr style=\"text-align: right;\">\n",
       "      <th></th>\n",
       "      <th>lookup_name</th>\n",
       "      <th>valid_scientific_name</th>\n",
       "      <th>match_method</th>\n",
       "    </tr>\n",
       "  </thead>\n",
       "  <tbody>\n",
       "    <tr>\n",
       "      <td>1</td>\n",
       "      <td>Abacion tessalatum</td>\n",
       "      <td>Abacion tesselatum</td>\n",
       "      <td>Fuzzy Match</td>\n",
       "    </tr>\n",
       "    <tr>\n",
       "      <td>24</td>\n",
       "      <td>Acabaria bicolor</td>\n",
       "      <td>Melithaea bicolor</td>\n",
       "      <td>Followed Valid AphiaID</td>\n",
       "    </tr>\n",
       "    <tr>\n",
       "      <td>31</td>\n",
       "      <td>Acalypta lillianus</td>\n",
       "      <td>Acalypta lillianis</td>\n",
       "      <td>Fuzzy Match</td>\n",
       "    </tr>\n",
       "    <tr>\n",
       "      <td>108</td>\n",
       "      <td>Acipenser oxyrhynchus</td>\n",
       "      <td>Acipenser oxyrinchus</td>\n",
       "      <td>Followed Accepted TSN</td>\n",
       "    </tr>\n",
       "    <tr>\n",
       "      <td>131</td>\n",
       "      <td>Acris crepitans blanchardi</td>\n",
       "      <td>Acris blanchardi</td>\n",
       "      <td>Followed Accepted TSN</td>\n",
       "    </tr>\n",
       "    <tr>\n",
       "      <td>...</td>\n",
       "      <td>...</td>\n",
       "      <td>...</td>\n",
       "      <td>...</td>\n",
       "    </tr>\n",
       "    <tr>\n",
       "      <td>19325</td>\n",
       "      <td>Zoanthus kealakekuaensi</td>\n",
       "      <td>Zoanthus kealakekuaensis</td>\n",
       "      <td>Fuzzy Match</td>\n",
       "    </tr>\n",
       "    <tr>\n",
       "      <td>19352</td>\n",
       "      <td>Zygonopus krekeleri</td>\n",
       "      <td>Trichopetalum krekeleri</td>\n",
       "      <td>Followed Valid AphiaID</td>\n",
       "    </tr>\n",
       "    <tr>\n",
       "      <td>19353</td>\n",
       "      <td>Zygonopus packardi</td>\n",
       "      <td>Trichopetalum packardi</td>\n",
       "      <td>Followed Valid AphiaID</td>\n",
       "    </tr>\n",
       "    <tr>\n",
       "      <td>19354</td>\n",
       "      <td>Zygonopus weyeriensis</td>\n",
       "      <td>Trichopetalum weyeriensis</td>\n",
       "      <td>Followed Valid AphiaID</td>\n",
       "    </tr>\n",
       "    <tr>\n",
       "      <td>19355</td>\n",
       "      <td>Zygonopus whitei</td>\n",
       "      <td>Trichopetalum whitei</td>\n",
       "      <td>Followed Valid AphiaID</td>\n",
       "    </tr>\n",
       "  </tbody>\n",
       "</table>\n",
       "<p>1337 rows × 3 columns</p>\n",
       "</div>"
      ],
      "text/plain": [
       "                      lookup_name      valid_scientific_name  \\\n",
       "1              Abacion tessalatum         Abacion tesselatum   \n",
       "24               Acabaria bicolor          Melithaea bicolor   \n",
       "31             Acalypta lillianus         Acalypta lillianis   \n",
       "108         Acipenser oxyrhynchus       Acipenser oxyrinchus   \n",
       "131    Acris crepitans blanchardi           Acris blanchardi   \n",
       "...                           ...                        ...   \n",
       "19325     Zoanthus kealakekuaensi   Zoanthus kealakekuaensis   \n",
       "19352         Zygonopus krekeleri    Trichopetalum krekeleri   \n",
       "19353          Zygonopus packardi     Trichopetalum packardi   \n",
       "19354       Zygonopus weyeriensis  Trichopetalum weyeriensis   \n",
       "19355            Zygonopus whitei       Trichopetalum whitei   \n",
       "\n",
       "                 match_method  \n",
       "1                 Fuzzy Match  \n",
       "24     Followed Valid AphiaID  \n",
       "31                Fuzzy Match  \n",
       "108     Followed Accepted TSN  \n",
       "131     Followed Accepted TSN  \n",
       "...                       ...  \n",
       "19325             Fuzzy Match  \n",
       "19352  Followed Valid AphiaID  \n",
       "19353  Followed Valid AphiaID  \n",
       "19354  Followed Valid AphiaID  \n",
       "19355  Followed Valid AphiaID  \n",
       "\n",
       "[1337 rows x 3 columns]"
      ]
     },
     "execution_count": 7,
     "metadata": {},
     "output_type": "execute_result"
    }
   ],
   "source": [
    "matched_species.loc[matched_species[\"lookup_name\"] != matched_species[\"valid_scientific_name\"]][[\"lookup_name\",\"valid_scientific_name\",\"match_method\"]]"
   ]
  },
  {
   "cell_type": "code",
   "execution_count": null,
   "metadata": {},
   "outputs": [],
   "source": []
  }
 ],
 "metadata": {
  "kernelspec": {
   "display_name": "Python 3",
   "language": "python",
   "name": "python3"
  },
  "language_info": {
   "codemirror_mode": {
    "name": "ipython",
    "version": 3
   },
   "file_extension": ".py",
   "mimetype": "text/x-python",
   "name": "python",
   "nbconvert_exporter": "python",
   "pygments_lexer": "ipython3",
   "version": "3.7.3"
  }
 },
 "nbformat": 4,
 "nbformat_minor": 2
}
