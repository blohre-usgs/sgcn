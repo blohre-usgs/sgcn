{
 "cells": [
  {
   "cell_type": "markdown",
   "metadata": {},
   "source": [
    "In a process like the SGCN, we have some specific business rules we are following. We are trying to nail down species for a \"National List\" based on consultation with taxonomic authorities, putting every name on the national list where we find a valid record in ITIS or WoRMS to follow. Since we are essentially trusting ITIS first and only using the information from WoRMS as an additional possible source for taxonomic alignment, we can shortcut the process of consulting with WoRMS and only search for the ITIS leftovers. If we wanted to use the information in WoRMS for more than that, we might run all of the species names through this process."
   ]
  },
  {
   "cell_type": "code",
   "execution_count": 1,
   "metadata": {},
   "outputs": [],
   "source": [
    "import pandas as pd\n",
    "import bispy\n",
    "import json\n",
    "from joblib import Parallel, delayed\n",
    "\n",
    "worms = bispy.worms.Worms()"
   ]
  },
  {
   "cell_type": "code",
   "execution_count": 2,
   "metadata": {},
   "outputs": [],
   "source": [
    "with open('itis.json', 'r') as f:\n",
    "    itis_data = json.loads(f.read())\n",
    "    f.close()"
   ]
  },
  {
   "cell_type": "code",
   "execution_count": 3,
   "metadata": {},
   "outputs": [],
   "source": [
    "itis_leftovers = [i[\"parameters\"][\"Scientific Name\"] for i in itis_data if i[\"processing_metadata\"][\"status\"] != \"success\"]"
   ]
  },
  {
   "cell_type": "code",
   "execution_count": 6,
   "metadata": {},
   "outputs": [
    {
     "data": {
      "text/plain": [
       "1645"
      ]
     },
     "execution_count": 6,
     "metadata": {},
     "output_type": "execute_result"
    }
   ],
   "source": [
    "len(itis_leftovers)"
   ]
  },
  {
   "cell_type": "code",
   "execution_count": 5,
   "metadata": {},
   "outputs": [
    {
     "name": "stdout",
     "output_type": "stream",
     "text": [
      "CPU times: user 5.38 s, sys: 442 ms, total: 5.82 s\n",
      "Wall time: 2min 56s\n"
     ]
    }
   ],
   "source": [
    "%%time\n",
    "# Use joblib to run multiple requests for ITIS documents in parallel via known ITIS TSNs\n",
    "worms_cache = Parallel(n_jobs=8)(delayed(worms.search)(name) for name in itis_leftovers)"
   ]
  },
  {
   "cell_type": "code",
   "execution_count": 12,
   "metadata": {},
   "outputs": [],
   "source": [
    "with open('worms.json', 'w') as f:\n",
    "    f.write(json.dumps(worms_cache))\n",
    "    f.close()"
   ]
  },
  {
   "cell_type": "code",
   "execution_count": null,
   "metadata": {},
   "outputs": [],
   "source": []
  }
 ],
 "metadata": {
  "kernelspec": {
   "display_name": "Python 3",
   "language": "python",
   "name": "python3"
  },
  "language_info": {
   "codemirror_mode": {
    "name": "ipython",
    "version": 3
   },
   "file_extension": ".py",
   "mimetype": "text/x-python",
   "name": "python",
   "nbconvert_exporter": "python",
   "pygments_lexer": "ipython3",
   "version": "3.7.3"
  }
 },
 "nbformat": 4,
 "nbformat_minor": 2
}
